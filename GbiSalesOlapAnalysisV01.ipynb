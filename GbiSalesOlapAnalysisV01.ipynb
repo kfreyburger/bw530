{
 "cells": [
  {
   "cell_type": "markdown",
   "metadata": {},
   "source": [
    "# OLAP Operationen für GBI Daten\n",
    "* wir verwenden hier die Daten aus dem BW4 Curriculum\n",
    "* Dateiformat csv\n",
    "* getrennte Fakten für US und DE\n",
    "* Jahre 2007 bis 2019\n",
    "* Revenue nur in lokaler Währung"
   ]
  },
  {
   "cell_type": "markdown",
   "metadata": {},
   "source": [
    "Faktentabelle DE einlesen\n",
    "* Feld- und Dezimaltrenner werden übergeben\n",
    "* Datum wir geparsed"
   ]
  },
  {
   "cell_type": "code",
   "execution_count": null,
   "metadata": {},
   "outputs": [],
   "source": [
    "import pandas as pd\n",
    "\n",
    "df_facts_de = pd.read_csv(\"SalesdataBW4DeV01.csv\", header = 0,delimiter =';',decimal=',', parse_dates=['SalesDate'])\n",
    "df_facts_de.head()"
   ]
  },
  {
   "cell_type": "markdown",
   "metadata": {},
   "source": [
    "Faktentabelle US einlesen "
   ]
  },
  {
   "cell_type": "code",
   "execution_count": null,
   "metadata": {},
   "outputs": [],
   "source": [
    "df_facts_us = pd.read_csv(\"SalesdataBW4UsV01.csv\", header = 0,delimiter =',',decimal='.', parse_dates=['SalesDate'])\n",
    "df_facts_us.head()\n"
   ]
  },
  {
   "cell_type": "markdown",
   "metadata": {},
   "source": [
    "Fakten zusammenführen"
   ]
  },
  {
   "cell_type": "code",
   "execution_count": null,
   "metadata": {},
   "outputs": [],
   "source": [
    "df_facts = pd.concat([df_facts_de, df_facts_us])\n",
    "len(df_facts.axes[0])"
   ]
  },
  {
   "cell_type": "markdown",
   "metadata": {},
   "source": [
    "Dimension Customer einlesen"
   ]
  },
  {
   "cell_type": "code",
   "execution_count": null,
   "metadata": {},
   "outputs": [],
   "source": [
    "df_cust = pd.read_csv(\"CustomerBW4V01.csv\", header = 0,delimiter =';')\n",
    "df_cust.head()"
   ]
  },
  {
   "cell_type": "markdown",
   "metadata": {},
   "source": [
    "Inner Join Faktentabelle und Dimensionstabelle"
   ]
  },
  {
   "cell_type": "code",
   "execution_count": null,
   "metadata": {},
   "outputs": [],
   "source": [
    "df_analysis = pd.merge(df_facts, df_cust, how='inner', left_on = 'Customer', right_on = 'Customer')\n",
    "df_analysis.head()"
   ]
  },
  {
   "cell_type": "markdown",
   "metadata": {},
   "source": [
    "Auswertung mit Aggregation eines Feldes"
   ]
  },
  {
   "cell_type": "code",
   "execution_count": null,
   "metadata": {},
   "outputs": [],
   "source": [
    "import numpy as np\n",
    "df_analysis.groupby('Country').agg({'SalesQuantity': np.sum, 'Revenue': np.sum})"
   ]
  },
  {
   "cell_type": "markdown",
   "metadata": {},
   "source": [
    "Jahr ableiten"
   ]
  },
  {
   "cell_type": "code",
   "execution_count": null,
   "metadata": {
    "scrolled": true
   },
   "outputs": [],
   "source": [
    "df_analysis['Year'] =  df_analysis['SalesDate'].dt.year\n",
    "df_analysis.groupby('Year').agg({'SalesQuantity': np.sum})"
   ]
  },
  {
   "cell_type": "markdown",
   "metadata": {},
   "source": [
    "Aggregation mehrerer Felder; kann mit den Zahlen in Case A2 verglichen werden"
   ]
  },
  {
   "cell_type": "code",
   "execution_count": null,
   "metadata": {},
   "outputs": [],
   "source": [
    "df_analysis.groupby(['Year', 'Country']).agg({ 'Revenue': np.sum})"
   ]
  },
  {
   "cell_type": "markdown",
   "metadata": {},
   "source": [
    "Filter setzen"
   ]
  },
  {
   "cell_type": "code",
   "execution_count": null,
   "metadata": {},
   "outputs": [],
   "source": [
    "df_analysis[df_analysis['Country']=='DE'].groupby('Year').agg({'Revenue': np.sum})"
   ]
  },
  {
   "cell_type": "markdown",
   "metadata": {},
   "source": [
    "Drill Down, usw..."
   ]
  },
  {
   "cell_type": "code",
   "execution_count": null,
   "metadata": {},
   "outputs": [],
   "source": [
    "df_analysis[df_analysis['Country']=='DE'].groupby(['Year','Salesorg']).agg({'Revenue': np.sum})"
   ]
  }
 ],
 "metadata": {
  "kernelspec": {
   "display_name": "Python 3",
   "language": "python",
   "name": "python3"
  },
  "language_info": {
   "codemirror_mode": {
    "name": "ipython",
    "version": 3
   },
   "file_extension": ".py",
   "mimetype": "text/x-python",
   "name": "python",
   "nbconvert_exporter": "python",
   "pygments_lexer": "ipython3",
   "version": "3.7.4"
  }
 },
 "nbformat": 4,
 "nbformat_minor": 2
}
